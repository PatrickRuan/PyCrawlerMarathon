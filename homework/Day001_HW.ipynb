{
  "nbformat": 4,
  "nbformat_minor": 0,
  "metadata": {
    "kernelspec": {
      "display_name": "Python 3",
      "language": "python",
      "name": "python3"
    },
    "language_info": {
      "codemirror_mode": {
        "name": "ipython",
        "version": 3
      },
      "file_extension": ".py",
      "mimetype": "text/x-python",
      "name": "python",
      "nbconvert_exporter": "python",
      "pygments_lexer": "ipython3",
      "version": "3.6.5"
    },
    "colab": {
      "name": "Day001_HW.ipynb",
      "provenance": [],
      "collapsed_sections": [],
      "toc_visible": true,
      "include_colab_link": true
    }
  },
  "cells": [
    {
      "cell_type": "markdown",
      "metadata": {
        "id": "view-in-github",
        "colab_type": "text"
      },
      "source": [
        "<a href=\"https://colab.research.google.com/github/PatrickRuan/PyCrawlerMarathon/blob/master/homework/Day001_HW.ipynb\" target=\"_parent\"><img src=\"https://colab.research.google.com/assets/colab-badge.svg\" alt=\"Open In Colab\"/></a>"
      ]
    },
    {
      "cell_type": "markdown",
      "metadata": {
        "id": "vbvNtdDVnlst"
      },
      "source": [
        "# 資料來源與檔案存取\n",
        "\n",
        "* 資料來源與取得\n",
        "* 開放資料\n",
        "* 資料儲存格式\n",
        "* Python 存取檔案"
      ]
    },
    {
      "cell_type": "markdown",
      "metadata": {
        "id": "rrYvPPeEnlsv"
      },
      "source": [
        "## 作業目標\n",
        "\n",
        "* 1.（簡答題）檔案、API、爬蟲三種取得資料方式有什麼不同？\n",
        "* 2.（實作）完成一個程式，需滿足下列需求：\n",
        "    * 下載指定檔案到 Data 資料夾，存成檔名 Homework.txt\n",
        "    * 檢查 Data 資料夾是否有 Homework.txt 檔名之檔案\n",
        "    * 將「Hello World」字串覆寫到 Homework.txt 檔案\n",
        "    * 檢查 Homework.txt 檔案字數是否符合 Hello World 字數\n"
      ]
    },
    {
      "cell_type": "markdown",
      "metadata": {
        "id": "xCedTqsnnlsx"
      },
      "source": [
        "### 1.（簡答題）檔案、API、爬蟲三種取得資料方式有什麼不同？"
      ]
    },
    {
      "cell_type": "markdown",
      "metadata": {
        "id": "chNE1gtWpnkF"
      },
      "source": [
        "Answer 1:\n",
        "\n",
        "* 檔案基本上是把資料打包類似 csv, json, excel, xml 等檔案\n",
        "供下載，傳遞。\n",
        "* API是開啟資料介面，藉由程式指令透過介面取得所需要的資料。\n",
        "* 爬蟲是在網路上的資料，內容，透過技巧取得，解析格式。"
      ]
    },
    {
      "cell_type": "markdown",
      "metadata": {
        "id": "VnIdsf9Enlsz"
      },
      "source": [
        "### 2.（實作）完成一個程式，需滿足下列需求：\n",
        "    * 下載指定檔案到 Data 資料夾，存成檔名 Homework.txt\n",
        "    * 檢查 Data 資料夾是否有 Homework.txt 檔名之檔案\n",
        "    * 將「Hello World」字串覆寫到 Homework.txt 檔案\n",
        "    * 檢查 Homework.txt 檔案字數是否符合 Hello World 字數\n"
      ]
    },
    {
      "cell_type": "markdown",
      "metadata": {
        "id": "LIuK2Lqsp-W9"
      },
      "source": [
        "from \"https://www.w3.org/TR/PNG/iso_8859-1.txt\""
      ]
    },
    {
      "cell_type": "code",
      "metadata": {
        "id": "S8qBI2wypx0m",
        "outputId": "d7ef6ee5-1fe7-4c02-cbea-ba6d9825cc37",
        "colab": {
          "base_uri": "https://localhost:8080/",
          "height": 51
        }
      },
      "source": [
        "!mkdir data\n",
        "from urllib.request import urlretrieve\n",
        "import os\n",
        "urlretrieve(\"https://www.w3.org/TR/PNG/iso_8859-1.txt\", 'data/Homework.txt')"
      ],
      "execution_count": 3,
      "outputs": [
        {
          "output_type": "stream",
          "text": [
            "mkdir: cannot create directory ‘data’: File exists\n"
          ],
          "name": "stdout"
        },
        {
          "output_type": "execute_result",
          "data": {
            "text/plain": [
              "('data/Homework.txt', <http.client.HTTPMessage at 0x7fc54c2ae630>)"
            ]
          },
          "metadata": {
            "tags": []
          },
          "execution_count": 3
        }
      ]
    },
    {
      "cell_type": "code",
      "metadata": {
        "id": "4SNiI_njqacM",
        "outputId": "a7d2a259-b2bc-44b9-dec2-7a46066f8217",
        "colab": {
          "base_uri": "https://localhost:8080/",
          "height": 34
        }
      },
      "source": [
        "!ls data"
      ],
      "execution_count": 13,
      "outputs": [
        {
          "output_type": "stream",
          "text": [
            "Homework.txt\n"
          ],
          "name": "stdout"
        }
      ]
    },
    {
      "cell_type": "code",
      "metadata": {
        "id": "AorngTXKsU-I",
        "outputId": "3b2fa7c3-947c-4630-e933-d9494c32b864",
        "colab": {
          "base_uri": "https://localhost:8080/",
          "height": 1000
        }
      },
      "source": [
        "with open('data/Homework.txt','r') as f:\n",
        "  x = f.read()\n",
        "print(x)\n"
      ],
      "execution_count": 23,
      "outputs": [
        {
          "output_type": "stream",
          "text": [
            "The following are the graphical (non-control) characters defined by\n",
            "ISO 8859-1 (1987).  Descriptions in words aren't all that helpful,\n",
            "but they're the best we can do in text.  A graphics file illustrating\n",
            "the character set should be available from the same archive as this\n",
            "file.\n",
            "\n",
            "Hex Description                 Hex Description\n",
            "\n",
            "20  SPACE\n",
            "21  EXCLAMATION MARK            A1  INVERTED EXCLAMATION MARK\n",
            "22  QUOTATION MARK              A2  CENT SIGN\n",
            "23  NUMBER SIGN                 A3  POUND SIGN\n",
            "24  DOLLAR SIGN                 A4  CURRENCY SIGN\n",
            "25  PERCENT SIGN                A5  YEN SIGN\n",
            "26  AMPERSAND                   A6  BROKEN BAR\n",
            "27  APOSTROPHE                  A7  SECTION SIGN\n",
            "28  LEFT PARENTHESIS            A8  DIAERESIS\n",
            "29  RIGHT PARENTHESIS           A9  COPYRIGHT SIGN\n",
            "2A  ASTERISK                    AA  FEMININE ORDINAL INDICATOR\n",
            "2B  PLUS SIGN                   AB  LEFT-POINTING DOUBLE ANGLE QUOTATION MARK\n",
            "2C  COMMA                       AC  NOT SIGN\n",
            "2D  HYPHEN-MINUS                AD  SOFT HYPHEN\n",
            "2E  FULL STOP                   AE  REGISTERED SIGN\n",
            "2F  SOLIDUS                     AF  OVERLINE\n",
            "30  DIGIT ZERO                  B0  DEGREE SIGN\n",
            "31  DIGIT ONE                   B1  PLUS-MINUS SIGN\n",
            "32  DIGIT TWO                   B2  SUPERSCRIPT TWO\n",
            "33  DIGIT THREE                 B3  SUPERSCRIPT THREE\n",
            "34  DIGIT FOUR                  B4  ACUTE ACCENT\n",
            "35  DIGIT FIVE                  B5  MICRO SIGN\n",
            "36  DIGIT SIX                   B6  PILCROW SIGN\n",
            "37  DIGIT SEVEN                 B7  MIDDLE DOT\n",
            "38  DIGIT EIGHT                 B8  CEDILLA\n",
            "39  DIGIT NINE                  B9  SUPERSCRIPT ONE\n",
            "3A  COLON                       BA  MASCULINE ORDINAL INDICATOR\n",
            "3B  SEMICOLON                   BB  RIGHT-POINTING DOUBLE ANGLE QUOTATION MARK\n",
            "3C  LESS-THAN SIGN              BC  VULGAR FRACTION ONE QUARTER\n",
            "3D  EQUALS SIGN                 BD  VULGAR FRACTION ONE HALF\n",
            "3E  GREATER-THAN SIGN           BE  VULGAR FRACTION THREE QUARTERS\n",
            "3F  QUESTION MARK               BF  INVERTED QUESTION MARK\n",
            "40  COMMERCIAL AT               C0  CAPITAL LETTER A WITH GRAVE\n",
            "41  CAPITAL LETTER A            C1  CAPITAL LETTER A WITH ACUTE\n",
            "42  CAPITAL LETTER B            C2  CAPITAL LETTER A WITH CIRCUMFLEX\n",
            "43  CAPITAL LETTER C            C3  CAPITAL LETTER A WITH TILDE\n",
            "44  CAPITAL LETTER D            C4  CAPITAL LETTER A WITH DIAERESIS\n",
            "45  CAPITAL LETTER E            C5  CAPITAL LETTER A WITH RING ABOVE\n",
            "46  CAPITAL LETTER F            C6  CAPITAL LETTER AE\n",
            "47  CAPITAL LETTER G            C7  CAPITAL LETTER C WITH CEDILLA\n",
            "48  CAPITAL LETTER H            C8  CAPITAL LETTER E WITH GRAVE\n",
            "49  CAPITAL LETTER I            C9  CAPITAL LETTER E WITH ACUTE\n",
            "4A  CAPITAL LETTER J            CA  CAPITAL LETTER E WITH CIRCUMFLEX\n",
            "4B  CAPITAL LETTER K            CB  CAPITAL LETTER E WITH DIAERESIS\n",
            "4C  CAPITAL LETTER L            CC  CAPITAL LETTER I WITH GRAVE\n",
            "4D  CAPITAL LETTER M            CD  CAPITAL LETTER I WITH ACUTE\n",
            "4E  CAPITAL LETTER N            CE  CAPITAL LETTER I WITH CIRCUMFLEX\n",
            "4F  CAPITAL LETTER O            CF  CAPITAL LETTER I WITH DIAERESIS\n",
            "50  CAPITAL LETTER P            D0  CAPITAL LETTER ETH (Icelandic)\n",
            "51  CAPITAL LETTER Q            D1  CAPITAL LETTER N WITH TILDE\n",
            "52  CAPITAL LETTER R            D2  CAPITAL LETTER O WITH GRAVE\n",
            "53  CAPITAL LETTER S            D3  CAPITAL LETTER O WITH ACUTE\n",
            "54  CAPITAL LETTER T            D4  CAPITAL LETTER O WITH CIRCUMFLEX\n",
            "55  CAPITAL LETTER U            D5  CAPITAL LETTER O WITH TILDE\n",
            "56  CAPITAL LETTER V            D6  CAPITAL LETTER O WITH DIAERESIS\n",
            "57  CAPITAL LETTER W            D7  MULTIPLICATION SIGN\n",
            "58  CAPITAL LETTER X            D8  CAPITAL LETTER O WITH STROKE\n",
            "59  CAPITAL LETTER Y            D9  CAPITAL LETTER U WITH GRAVE\n",
            "5A  CAPITAL LETTER Z            DA  CAPITAL LETTER U WITH ACUTE\n",
            "5B  LEFT SQUARE BRACKET         DB  CAPITAL LETTER U WITH CIRCUMFLEX\n",
            "5C  REVERSE SOLIDUS             DC  CAPITAL LETTER U WITH DIAERESIS\n",
            "5D  RIGHT SQUARE BRACKET        DD  CAPITAL LETTER Y WITH ACUTE\n",
            "5E  CIRCUMFLEX ACCENT           DE  CAPITAL LETTER THORN (Icelandic)\n",
            "5F  LOW LINE                    DF  SMALL LETTER SHARP S (German)\n",
            "60  GRAVE ACCENT                E0  SMALL LETTER A WITH GRAVE\n",
            "61  SMALL LETTER A              E1  SMALL LETTER A WITH ACUTE\n",
            "62  SMALL LETTER B              E2  SMALL LETTER A WITH CIRCUMFLEX\n",
            "63  SMALL LETTER C              E3  SMALL LETTER A WITH TILDE\n",
            "64  SMALL LETTER D              E4  SMALL LETTER A WITH DIAERESIS\n",
            "65  SMALL LETTER E              E5  SMALL LETTER A WITH RING ABOVE\n",
            "66  SMALL LETTER F              E6  SMALL LETTER AE\n",
            "67  SMALL LETTER G              E7  SMALL LETTER C WITH CEDILLA\n",
            "68  SMALL LETTER H              E8  SMALL LETTER E WITH GRAVE\n",
            "69  SMALL LETTER I              E9  SMALL LETTER E WITH ACUTE\n",
            "6A  SMALL LETTER J              EA  SMALL LETTER E WITH CIRCUMFLEX\n",
            "6B  SMALL LETTER K              EB  SMALL LETTER E WITH DIAERESIS\n",
            "6C  SMALL LETTER L              EC  SMALL LETTER I WITH GRAVE\n",
            "6D  SMALL LETTER M              ED  SMALL LETTER I WITH ACUTE\n",
            "6E  SMALL LETTER N              EE  SMALL LETTER I WITH CIRCUMFLEX\n",
            "6F  SMALL LETTER O              EF  SMALL LETTER I WITH DIAERESIS\n",
            "70  SMALL LETTER P              F0  SMALL LETTER ETH (Icelandic)\n",
            "71  SMALL LETTER Q              F1  SMALL LETTER N WITH TILDE\n",
            "72  SMALL LETTER R              F2  SMALL LETTER O WITH GRAVE\n",
            "73  SMALL LETTER S              F3  SMALL LETTER O WITH ACUTE\n",
            "74  SMALL LETTER T              F4  SMALL LETTER O WITH CIRCUMFLEX\n",
            "75  SMALL LETTER U              F5  SMALL LETTER O WITH TILDE\n",
            "76  SMALL LETTER V              F6  SMALL LETTER O WITH DIAERESIS\n",
            "77  SMALL LETTER W              F7  DIVISION SIGN\n",
            "78  SMALL LETTER X              F8  SMALL LETTER O WITH STROKE\n",
            "79  SMALL LETTER Y              F9  SMALL LETTER U WITH GRAVE\n",
            "7A  SMALL LETTER Z              FA  SMALL LETTER U WITH ACUTE\n",
            "7B  LEFT CURLY BRACKET          FB  SMALL LETTER U WITH CIRCUMFLEX\n",
            "7C  VERTICAL LINE               FC  SMALL LETTER U WITH DIAERESIS\n",
            "7D  RIGHT CURLY BRACKET         FD  SMALL LETTER Y WITH ACUTE\n",
            "7E  TILDE                       FE  SMALL LETTER THORN (Icelandic)\n",
            "                                FF  SMALL LETTER Y WITH DIAERESIS\n",
            "Hello World\n",
            "The following are the graphical (non-control) characters defined by\n",
            "ISO 8859-1 (1987).  Descriptions in words aren't all that helpful,\n",
            "but they're the best we can do in text.  A graphics file illustrating\n",
            "the character set should be available from the same archive as this\n",
            "file.\n",
            "\n",
            "Hex Description                 Hex Description\n",
            "\n",
            "20  SPACE\n",
            "21  EXCLAMATION MARK            A1  INVERTED EXCLAMATION MARK\n",
            "22  QUOTATION MARK              A2  CENT SIGN\n",
            "23  NUMBER SIGN                 A3  POUND SIGN\n",
            "24  DOLLAR SIGN                 A4  CURRENCY SIGN\n",
            "25  PERCENT SIGN                A5  YEN SIGN\n",
            "26  AMPERSAND                   A6  BROKEN BAR\n",
            "27  APOSTROPHE                  A7  SECTION SIGN\n",
            "28  LEFT PARENTHESIS            A8  DIAERESIS\n",
            "29  RIGHT PARENTHESIS           A9  COPYRIGHT SIGN\n",
            "2A  ASTERISK                    AA  FEMININE ORDINAL INDICATOR\n",
            "2B  PLUS SIGN                   AB  LEFT-POINTING DOUBLE ANGLE QUOTATION MARK\n",
            "2C  COMMA                       AC  NOT SIGN\n",
            "2D  HYPHEN-MINUS                AD  SOFT HYPHEN\n",
            "2E  FULL STOP                   AE  REGISTERED SIGN\n",
            "2F  SOLIDUS                     AF  OVERLINE\n",
            "30  DIGIT ZERO                  B0  DEGREE SIGN\n",
            "31  DIGIT ONE                   B1  PLUS-MINUS SIGN\n",
            "32  DIGIT TWO                   B2  SUPERSCRIPT TWO\n",
            "33  DIGIT THREE                 B3  SUPERSCRIPT THREE\n",
            "34  DIGIT FOUR                  B4  ACUTE ACCENT\n",
            "35  DIGIT FIVE                  B5  MICRO SIGN\n",
            "36  DIGIT SIX                   B6  PILCROW SIGN\n",
            "37  DIGIT SEVEN                 B7  MIDDLE DOT\n",
            "38  DIGIT EIGHT                 B8  CEDILLA\n",
            "39  DIGIT NINE                  B9  SUPERSCRIPT ONE\n",
            "3A  COLON                       BA  MASCULINE ORDINAL INDICATOR\n",
            "3B  SEMICOLON                   BB  RIGHT-POINTING DOUBLE ANGLE QUOTATION MARK\n",
            "3C  LESS-THAN SIGN              BC  VULGAR FRACTION ONE QUARTER\n",
            "3D  EQUALS SIGN                 BD  VULGAR FRACTION ONE HALF\n",
            "3E  GREATER-THAN SIGN           BE  VULGAR FRACTION THREE QUARTERS\n",
            "3F  QUESTION MARK               BF  INVERTED QUESTION MARK\n",
            "40  COMMERCIAL AT               C0  CAPITAL LETTER A WITH GRAVE\n",
            "41  CAPITAL LETTER A            C1  CAPITAL LETTER A WITH ACUTE\n",
            "42  CAPITAL LETTER B            C2  CAPITAL LETTER A WITH CIRCUMFLEX\n",
            "43  CAPITAL LETTER C            C3  CAPITAL LETTER A WITH TILDE\n",
            "44  CAPITAL LETTER D            C4  CAPITAL LETTER A WITH DIAERESIS\n",
            "45  CAPITAL LETTER E            C5  CAPITAL LETTER A WITH RING ABOVE\n",
            "46  CAPITAL LETTER F            C6  CAPITAL LETTER AE\n",
            "47  CAPITAL LETTER G            C7  CAPITAL LETTER C WITH CEDILLA\n",
            "48  CAPITAL LETTER H            C8  CAPITAL LETTER E WITH GRAVE\n",
            "49  CAPITAL LETTER I            C9  CAPITAL LETTER E WITH ACUTE\n",
            "4A  CAPITAL LETTER J            CA  CAPITAL LETTER E WITH CIRCUMFLEX\n",
            "4B  CAPITAL LETTER K            CB  CAPITAL LETTER E WITH DIAERESIS\n",
            "4C  CAPITAL LETTER L            CC  CAPITAL LETTER I WITH GRAVE\n",
            "4D  CAPITAL LETTER M            CD  CAPITAL LETTER I WITH ACUTE\n",
            "4E  CAPITAL LETTER N            CE  CAPITAL LETTER I WITH CIRCUMFLEX\n",
            "4F  CAPITAL LETTER O            CF  CAPITAL LETTER I WITH DIAERESIS\n",
            "50  CAPITAL LETTER P            D0  CAPITAL LETTER ETH (Icelandic)\n",
            "51  CAPITAL LETTER Q            D1  CAPITAL LETTER N WITH TILDE\n",
            "52  CAPITAL LETTER R            D2  CAPITAL LETTER O WITH GRAVE\n",
            "53  CAPITAL LETTER S            D3  CAPITAL LETTER O WITH ACUTE\n",
            "54  CAPITAL LETTER T            D4  CAPITAL LETTER O WITH CIRCUMFLEX\n",
            "55  CAPITAL LETTER U            D5  CAPITAL LETTER O WITH TILDE\n",
            "56  CAPITAL LETTER V            D6  CAPITAL LETTER O WITH DIAERESIS\n",
            "57  CAPITAL LETTER W            D7  MULTIPLICATION SIGN\n",
            "58  CAPITAL LETTER X            D8  CAPITAL LETTER O WITH STROKE\n",
            "59  CAPITAL LETTER Y            D9  CAPITAL LETTER U WITH GRAVE\n",
            "5A  CAPITAL LETTER Z            DA  CAPITAL LETTER U WITH ACUTE\n",
            "5B  LEFT SQUARE BRACKET         DB  CAPITAL LETTER U WITH CIRCUMFLEX\n",
            "5C  REVERSE SOLIDUS             DC  CAPITAL LETTER U WITH DIAERESIS\n",
            "5D  RIGHT SQUARE BRACKET        DD  CAPITAL LETTER Y WITH ACUTE\n",
            "5E  CIRCUMFLEX ACCENT           DE  CAPITAL LETTER THORN (Icelandic)\n",
            "5F  LOW LINE                    DF  SMALL LETTER SHARP S (German)\n",
            "60  GRAVE ACCENT                E0  SMALL LETTER A WITH GRAVE\n",
            "61  SMALL LETTER A              E1  SMALL LETTER A WITH ACUTE\n",
            "62  SMALL LETTER B              E2  SMALL LETTER A WITH CIRCUMFLEX\n",
            "63  SMALL LETTER C              E3  SMALL LETTER A WITH TILDE\n",
            "64  SMALL LETTER D              E4  SMALL LETTER A WITH DIAERESIS\n",
            "65  SMALL LETTER E              E5  SMALL LETTER A WITH RING ABOVE\n",
            "66  SMALL LETTER F              E6  SMALL LETTER AE\n",
            "67  SMALL LETTER G              E7  SMALL LETTER C WITH CEDILLA\n",
            "68  SMALL LETTER H              E8  SMALL LETTER E WITH GRAVE\n",
            "69  SMALL LETTER I              E9  SMALL LETTER E WITH ACUTE\n",
            "6A  SMALL LETTER J              EA  SMALL LETTER E WITH CIRCUMFLEX\n",
            "6B  SMALL LETTER K              EB  SMALL LETTER E WITH DIAERESIS\n",
            "6C  SMALL LETTER L              EC  SMALL LETTER I WITH GRAVE\n",
            "6D  SMALL LETTER M              ED  SMALL LETTER I WITH ACUTE\n",
            "6E  SMALL LETTER N              EE  SMALL LETTER I WITH CIRCUMFLEX\n",
            "6F  SMALL LETTER O              EF  SMALL LETTER I WITH DIAERESIS\n",
            "70  SMALL LETTER P              F0  SMALL LETTER ETH (Icelandic)\n",
            "71  SMALL LETTER Q              F1  SMALL LETTER N WITH TILDE\n",
            "72  SMALL LETTER R              F2  SMALL LETTER O WITH GRAVE\n",
            "73  SMALL LETTER S              F3  SMALL LETTER O WITH ACUTE\n",
            "74  SMALL LETTER T              F4  SMALL LETTER O WITH CIRCUMFLEX\n",
            "75  SMALL LETTER U              F5  SMALL LETTER O WITH TILDE\n",
            "76  SMALL LETTER V              F6  SMALL LETTER O WITH DIAERESIS\n",
            "77  SMALL LETTER W              F7  DIVISION SIGN\n",
            "78  SMALL LETTER X              F8  SMALL LETTER O WITH STROKE\n",
            "79  SMALL LETTER Y              F9  SMALL LETTER U WITH GRAVE\n",
            "7A  SMALL LETTER Z              FA  SMALL LETTER U WITH ACUTE\n",
            "7B  LEFT CURLY BRACKET          FB  SMALL LETTER U WITH CIRCUMFLEX\n",
            "7C  VERTICAL LINE               FC  SMALL LETTER U WITH DIAERESIS\n",
            "7D  RIGHT CURLY BRACKET         FD  SMALL LETTER Y WITH ACUTE\n",
            "7E  TILDE                       FE  SMALL LETTER THORN (Icelandic)\n",
            "                                FF  SMALL LETTER Y WITH DIAERESIS\n",
            "Hello WorldHello World\n"
          ],
          "name": "stdout"
        }
      ]
    },
    {
      "cell_type": "code",
      "metadata": {
        "id": "AnX6v1XltZG5",
        "outputId": "b9f7dab5-41c5-40cb-eb92-b07870203915",
        "colab": {
          "base_uri": "https://localhost:8080/",
          "height": 1000
        }
      },
      "source": [
        "\n",
        "with open('data/Homework.txt','a') as f:\n",
        "  x = f.write('Hello World')\n",
        "with open('data/Homework.txt','r') as f:\n",
        "  x = f.read()\n",
        "print(x)"
      ],
      "execution_count": 24,
      "outputs": [
        {
          "output_type": "stream",
          "text": [
            "The following are the graphical (non-control) characters defined by\n",
            "ISO 8859-1 (1987).  Descriptions in words aren't all that helpful,\n",
            "but they're the best we can do in text.  A graphics file illustrating\n",
            "the character set should be available from the same archive as this\n",
            "file.\n",
            "\n",
            "Hex Description                 Hex Description\n",
            "\n",
            "20  SPACE\n",
            "21  EXCLAMATION MARK            A1  INVERTED EXCLAMATION MARK\n",
            "22  QUOTATION MARK              A2  CENT SIGN\n",
            "23  NUMBER SIGN                 A3  POUND SIGN\n",
            "24  DOLLAR SIGN                 A4  CURRENCY SIGN\n",
            "25  PERCENT SIGN                A5  YEN SIGN\n",
            "26  AMPERSAND                   A6  BROKEN BAR\n",
            "27  APOSTROPHE                  A7  SECTION SIGN\n",
            "28  LEFT PARENTHESIS            A8  DIAERESIS\n",
            "29  RIGHT PARENTHESIS           A9  COPYRIGHT SIGN\n",
            "2A  ASTERISK                    AA  FEMININE ORDINAL INDICATOR\n",
            "2B  PLUS SIGN                   AB  LEFT-POINTING DOUBLE ANGLE QUOTATION MARK\n",
            "2C  COMMA                       AC  NOT SIGN\n",
            "2D  HYPHEN-MINUS                AD  SOFT HYPHEN\n",
            "2E  FULL STOP                   AE  REGISTERED SIGN\n",
            "2F  SOLIDUS                     AF  OVERLINE\n",
            "30  DIGIT ZERO                  B0  DEGREE SIGN\n",
            "31  DIGIT ONE                   B1  PLUS-MINUS SIGN\n",
            "32  DIGIT TWO                   B2  SUPERSCRIPT TWO\n",
            "33  DIGIT THREE                 B3  SUPERSCRIPT THREE\n",
            "34  DIGIT FOUR                  B4  ACUTE ACCENT\n",
            "35  DIGIT FIVE                  B5  MICRO SIGN\n",
            "36  DIGIT SIX                   B6  PILCROW SIGN\n",
            "37  DIGIT SEVEN                 B7  MIDDLE DOT\n",
            "38  DIGIT EIGHT                 B8  CEDILLA\n",
            "39  DIGIT NINE                  B9  SUPERSCRIPT ONE\n",
            "3A  COLON                       BA  MASCULINE ORDINAL INDICATOR\n",
            "3B  SEMICOLON                   BB  RIGHT-POINTING DOUBLE ANGLE QUOTATION MARK\n",
            "3C  LESS-THAN SIGN              BC  VULGAR FRACTION ONE QUARTER\n",
            "3D  EQUALS SIGN                 BD  VULGAR FRACTION ONE HALF\n",
            "3E  GREATER-THAN SIGN           BE  VULGAR FRACTION THREE QUARTERS\n",
            "3F  QUESTION MARK               BF  INVERTED QUESTION MARK\n",
            "40  COMMERCIAL AT               C0  CAPITAL LETTER A WITH GRAVE\n",
            "41  CAPITAL LETTER A            C1  CAPITAL LETTER A WITH ACUTE\n",
            "42  CAPITAL LETTER B            C2  CAPITAL LETTER A WITH CIRCUMFLEX\n",
            "43  CAPITAL LETTER C            C3  CAPITAL LETTER A WITH TILDE\n",
            "44  CAPITAL LETTER D            C4  CAPITAL LETTER A WITH DIAERESIS\n",
            "45  CAPITAL LETTER E            C5  CAPITAL LETTER A WITH RING ABOVE\n",
            "46  CAPITAL LETTER F            C6  CAPITAL LETTER AE\n",
            "47  CAPITAL LETTER G            C7  CAPITAL LETTER C WITH CEDILLA\n",
            "48  CAPITAL LETTER H            C8  CAPITAL LETTER E WITH GRAVE\n",
            "49  CAPITAL LETTER I            C9  CAPITAL LETTER E WITH ACUTE\n",
            "4A  CAPITAL LETTER J            CA  CAPITAL LETTER E WITH CIRCUMFLEX\n",
            "4B  CAPITAL LETTER K            CB  CAPITAL LETTER E WITH DIAERESIS\n",
            "4C  CAPITAL LETTER L            CC  CAPITAL LETTER I WITH GRAVE\n",
            "4D  CAPITAL LETTER M            CD  CAPITAL LETTER I WITH ACUTE\n",
            "4E  CAPITAL LETTER N            CE  CAPITAL LETTER I WITH CIRCUMFLEX\n",
            "4F  CAPITAL LETTER O            CF  CAPITAL LETTER I WITH DIAERESIS\n",
            "50  CAPITAL LETTER P            D0  CAPITAL LETTER ETH (Icelandic)\n",
            "51  CAPITAL LETTER Q            D1  CAPITAL LETTER N WITH TILDE\n",
            "52  CAPITAL LETTER R            D2  CAPITAL LETTER O WITH GRAVE\n",
            "53  CAPITAL LETTER S            D3  CAPITAL LETTER O WITH ACUTE\n",
            "54  CAPITAL LETTER T            D4  CAPITAL LETTER O WITH CIRCUMFLEX\n",
            "55  CAPITAL LETTER U            D5  CAPITAL LETTER O WITH TILDE\n",
            "56  CAPITAL LETTER V            D6  CAPITAL LETTER O WITH DIAERESIS\n",
            "57  CAPITAL LETTER W            D7  MULTIPLICATION SIGN\n",
            "58  CAPITAL LETTER X            D8  CAPITAL LETTER O WITH STROKE\n",
            "59  CAPITAL LETTER Y            D9  CAPITAL LETTER U WITH GRAVE\n",
            "5A  CAPITAL LETTER Z            DA  CAPITAL LETTER U WITH ACUTE\n",
            "5B  LEFT SQUARE BRACKET         DB  CAPITAL LETTER U WITH CIRCUMFLEX\n",
            "5C  REVERSE SOLIDUS             DC  CAPITAL LETTER U WITH DIAERESIS\n",
            "5D  RIGHT SQUARE BRACKET        DD  CAPITAL LETTER Y WITH ACUTE\n",
            "5E  CIRCUMFLEX ACCENT           DE  CAPITAL LETTER THORN (Icelandic)\n",
            "5F  LOW LINE                    DF  SMALL LETTER SHARP S (German)\n",
            "60  GRAVE ACCENT                E0  SMALL LETTER A WITH GRAVE\n",
            "61  SMALL LETTER A              E1  SMALL LETTER A WITH ACUTE\n",
            "62  SMALL LETTER B              E2  SMALL LETTER A WITH CIRCUMFLEX\n",
            "63  SMALL LETTER C              E3  SMALL LETTER A WITH TILDE\n",
            "64  SMALL LETTER D              E4  SMALL LETTER A WITH DIAERESIS\n",
            "65  SMALL LETTER E              E5  SMALL LETTER A WITH RING ABOVE\n",
            "66  SMALL LETTER F              E6  SMALL LETTER AE\n",
            "67  SMALL LETTER G              E7  SMALL LETTER C WITH CEDILLA\n",
            "68  SMALL LETTER H              E8  SMALL LETTER E WITH GRAVE\n",
            "69  SMALL LETTER I              E9  SMALL LETTER E WITH ACUTE\n",
            "6A  SMALL LETTER J              EA  SMALL LETTER E WITH CIRCUMFLEX\n",
            "6B  SMALL LETTER K              EB  SMALL LETTER E WITH DIAERESIS\n",
            "6C  SMALL LETTER L              EC  SMALL LETTER I WITH GRAVE\n",
            "6D  SMALL LETTER M              ED  SMALL LETTER I WITH ACUTE\n",
            "6E  SMALL LETTER N              EE  SMALL LETTER I WITH CIRCUMFLEX\n",
            "6F  SMALL LETTER O              EF  SMALL LETTER I WITH DIAERESIS\n",
            "70  SMALL LETTER P              F0  SMALL LETTER ETH (Icelandic)\n",
            "71  SMALL LETTER Q              F1  SMALL LETTER N WITH TILDE\n",
            "72  SMALL LETTER R              F2  SMALL LETTER O WITH GRAVE\n",
            "73  SMALL LETTER S              F3  SMALL LETTER O WITH ACUTE\n",
            "74  SMALL LETTER T              F4  SMALL LETTER O WITH CIRCUMFLEX\n",
            "75  SMALL LETTER U              F5  SMALL LETTER O WITH TILDE\n",
            "76  SMALL LETTER V              F6  SMALL LETTER O WITH DIAERESIS\n",
            "77  SMALL LETTER W              F7  DIVISION SIGN\n",
            "78  SMALL LETTER X              F8  SMALL LETTER O WITH STROKE\n",
            "79  SMALL LETTER Y              F9  SMALL LETTER U WITH GRAVE\n",
            "7A  SMALL LETTER Z              FA  SMALL LETTER U WITH ACUTE\n",
            "7B  LEFT CURLY BRACKET          FB  SMALL LETTER U WITH CIRCUMFLEX\n",
            "7C  VERTICAL LINE               FC  SMALL LETTER U WITH DIAERESIS\n",
            "7D  RIGHT CURLY BRACKET         FD  SMALL LETTER Y WITH ACUTE\n",
            "7E  TILDE                       FE  SMALL LETTER THORN (Icelandic)\n",
            "                                FF  SMALL LETTER Y WITH DIAERESIS\n",
            "Hello WorldHello WorldHello World\n"
          ],
          "name": "stdout"
        }
      ]
    },
    {
      "cell_type": "code",
      "metadata": {
        "id": "S5Z8oAaZtazW",
        "outputId": "4be5ea98-d069-4017-c028-8e9b1372228b",
        "colab": {
          "base_uri": "https://localhost:8080/",
          "height": 34
        }
      },
      "source": [
        "\n",
        "with open('data/Homework.txt','w') as f:\n",
        "  x = f.write('Hello World')\n",
        "with open('data/Homework.txt','r') as f:\n",
        "  x = f.read()\n",
        "print(x)"
      ],
      "execution_count": 25,
      "outputs": [
        {
          "output_type": "stream",
          "text": [
            "Hello World\n"
          ],
          "name": "stdout"
        }
      ]
    },
    {
      "cell_type": "code",
      "metadata": {
        "id": "xbuC3MF5nls0"
      },
      "source": [
        "# 根據需求引入正確的 Library\n",
        "\n",
        "from urllib.request import urlretrieve\n",
        "import os"
      ],
      "execution_count": null,
      "outputs": []
    },
    {
      "cell_type": "code",
      "metadata": {
        "id": "8t5QImZgnltP"
      },
      "source": [
        "# 下載檔案到 Data 資料夾，存成檔名 Homework.txt\n",
        "\n",
        "try:\n",
        "    os.makedirs( './Data', exist_ok=True )\n",
        "    '''\n",
        "    Your Code\n",
        "    '''\n",
        "except:\n",
        "    print('發生錯誤！')"
      ],
      "execution_count": null,
      "outputs": []
    },
    {
      "cell_type": "code",
      "metadata": {
        "id": "jAZKOlCXnlux",
        "outputId": "c2b004bd-3e20-4d4e-c954-6452b0ee3641"
      },
      "source": [
        "# 檢查 Data 資料夾是否有 Homework.txt 檔名之檔案\n",
        "\n",
        "files = []\n",
        "\n",
        "'''\n",
        "Your Code\n",
        "'''\n",
        "\n",
        "if 'Homework.txt' in files:\n",
        "    print('[O] 檢查 Data 資料夾是否有 Homework.txt 檔名之檔案')\n",
        "else:\n",
        "    print('[X] 檢查 Data 資料夾是否有 Homework.txt 檔名之檔案')"
      ],
      "execution_count": null,
      "outputs": [
        {
          "output_type": "stream",
          "text": [
            "[X] 檢查 Data 資料夾是否有 Homework.txt 檔名之檔案\n"
          ],
          "name": "stdout"
        }
      ]
    },
    {
      "cell_type": "code",
      "metadata": {
        "id": "yD8tE1fEnlu2"
      },
      "source": [
        "# 將「Hello World」字串覆寫到 Homework.txt 檔案\n",
        "\n",
        "f = ''\n",
        "\n",
        "with open(\"./Data/Homework.txt\", \"w\") as fh:\n",
        "    '''\n",
        "    Your Code\n",
        "    '''\n",
        "\n",
        "try:\n",
        "    with open(\"./Data/Homework.txt\", \"r\") as fh:\n",
        "        '''\n",
        "        Your Code\n",
        "        '''\n",
        "except EnvironmentError: # parent of IOError, OSError *and* WindowsError where available\n",
        "    pass    \n",
        "    \n"
      ],
      "execution_count": null,
      "outputs": []
    },
    {
      "cell_type": "code",
      "metadata": {
        "scrolled": true,
        "id": "H73KvzUInlu-",
        "outputId": "1f29e210-fe33-42cb-9b3b-0c1c83aeca07"
      },
      "source": [
        "# 檢查 Homework.txt 檔案字數是否符合 Hello World 字數\n",
        "\n",
        "if len('Hello World') == len(f):\n",
        "    print('[O] 檢查 Homework.txt 檔案字數是否符合 Hello World 字數')\n",
        "else:\n",
        "    print('[X] 檢查 Homework.txt 檔案字數是否符合 Hello World 字數')"
      ],
      "execution_count": null,
      "outputs": [
        {
          "output_type": "stream",
          "text": [
            "[X] 檢查 Homework.txt 檔案字數是否符合 Hello World 字數\n"
          ],
          "name": "stdout"
        }
      ]
    },
    {
      "cell_type": "code",
      "metadata": {
        "id": "mOy3zPe8nlvC"
      },
      "source": [
        ""
      ],
      "execution_count": null,
      "outputs": []
    },
    {
      "cell_type": "code",
      "metadata": {
        "id": "cUaGjTO6nlvI"
      },
      "source": [
        ""
      ],
      "execution_count": null,
      "outputs": []
    },
    {
      "cell_type": "code",
      "metadata": {
        "id": "rzFrkGoFnlvU"
      },
      "source": [
        ""
      ],
      "execution_count": null,
      "outputs": []
    }
  ]
}