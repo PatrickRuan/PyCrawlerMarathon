{
  "nbformat": 4,
  "nbformat_minor": 0,
  "metadata": {
    "kernelspec": {
      "display_name": "Python 3",
      "language": "python",
      "name": "python3"
    },
    "language_info": {
      "codemirror_mode": {
        "name": "ipython",
        "version": 3
      },
      "file_extension": ".py",
      "mimetype": "text/x-python",
      "name": "python",
      "nbconvert_exporter": "python",
      "pygments_lexer": "ipython3",
      "version": "3.6.5"
    },
    "colab": {
      "name": "Day001_HW.ipynb",
      "provenance": [],
      "collapsed_sections": [],
      "include_colab_link": true
    }
  },
  "cells": [
    {
      "cell_type": "markdown",
      "metadata": {
        "id": "view-in-github",
        "colab_type": "text"
      },
      "source": [
        "<a href=\"https://colab.research.google.com/github/PatrickRuan/PyCrawlerMarathon/blob/master/homework/Day001_HW.ipynb\" target=\"_parent\"><img src=\"https://colab.research.google.com/assets/colab-badge.svg\" alt=\"Open In Colab\"/></a>"
      ]
    },
    {
      "cell_type": "markdown",
      "metadata": {
        "id": "vbvNtdDVnlst"
      },
      "source": [
        "# 資料來源與檔案存取\n",
        "\n",
        "* 資料來源與取得\n",
        "* 開放資料\n",
        "* 資料儲存格式\n",
        "* Python 存取檔案"
      ]
    },
    {
      "cell_type": "markdown",
      "metadata": {
        "id": "rrYvPPeEnlsv"
      },
      "source": [
        "## 作業目標\n",
        "\n",
        "* 1.（簡答題）檔案、API、爬蟲三種取得資料方式有什麼不同？\n",
        "* 2.（實作）完成一個程式，需滿足下列需求：\n",
        "    * 下載指定檔案到 Data 資料夾，存成檔名 Homework.txt\n",
        "    * 檢查 Data 資料夾是否有 Homework.txt 檔名之檔案\n",
        "    * 將「Hello World」字串覆寫到 Homework.txt 檔案\n",
        "    * 檢查 Homework.txt 檔案字數是否符合 Hello World 字數\n"
      ]
    },
    {
      "cell_type": "markdown",
      "metadata": {
        "id": "xCedTqsnnlsx"
      },
      "source": [
        "### 1.（簡答題）檔案、API、爬蟲三種取得資料方式有什麼不同？"
      ]
    },
    {
      "cell_type": "markdown",
      "metadata": {
        "id": "chNE1gtWpnkF"
      },
      "source": [
        "Answer 1:\n",
        "\n",
        "* 檔案基本上是把資料打包類似 csv, json, excel, xml 等檔案\n",
        "供下載，傳遞。\n",
        "* API是開啟資料介面，藉由程式指令透過介面取得所需要的資料。\n",
        "* 爬蟲是在網路上的資料，內容，透過技巧取得，解析格式。"
      ]
    },
    {
      "cell_type": "markdown",
      "metadata": {
        "id": "VnIdsf9Enlsz"
      },
      "source": [
        "### 2.（實作）完成一個程式，需滿足下列需求：\n",
        "    * 下載指定檔案到 Data 資料夾，存成檔名 Homework.txt\n",
        "    * 檢查 Data 資料夾是否有 Homework.txt 檔名之檔案\n",
        "    * 將「Hello World」字串覆寫到 Homework.txt 檔案\n",
        "    * 檢查 Homework.txt 檔案字數是否符合 Hello World 字數\n"
      ]
    },
    {
      "cell_type": "markdown",
      "metadata": {
        "id": "LIuK2Lqsp-W9"
      },
      "source": [
        "from \"https://www.w3.org/TR/PNG/iso_8859-1.txt\""
      ]
    },
    {
      "cell_type": "code",
      "metadata": {
        "id": "S8qBI2wypx0m",
        "outputId": "6d5007c1-f1a1-441d-dd90-707f8390e6f6",
        "colab": {
          "base_uri": "https://localhost:8080/",
          "height": 34
        }
      },
      "source": [
        "from urllib.request import urlretrieve\n",
        "import os\n",
        "#!mkdir data\n",
        "# or\n",
        "os.makedirs('data', exist_ok = True)\n",
        "\n",
        "urlretrieve(\"https://www.w3.org/TR/PNG/iso_8859-1.txt\", 'data/Homework.txt')"
      ],
      "execution_count": 28,
      "outputs": [
        {
          "output_type": "execute_result",
          "data": {
            "text/plain": [
              "('data/Homework.txt', <http.client.HTTPMessage at 0x7fc542973860>)"
            ]
          },
          "metadata": {
            "tags": []
          },
          "execution_count": 28
        }
      ]
    },
    {
      "cell_type": "code",
      "metadata": {
        "id": "rLTt_Smmuvdz",
        "outputId": "e11b7a47-71b8-44e3-fd2d-4e67d8fd6bfb",
        "colab": {
          "base_uri": "https://localhost:8080/",
          "height": 34
        }
      },
      "source": [
        "filelist = os.listdir('data')\n",
        "\n",
        "if 'Homework.txt' in filelist:\n",
        "  print('Yes, \"Homework.txt\" is in directory.')"
      ],
      "execution_count": 34,
      "outputs": [
        {
          "output_type": "stream",
          "text": [
            "Yes, \"Homework.txt\" is in directory.\n"
          ],
          "name": "stdout"
        }
      ]
    },
    {
      "cell_type": "code",
      "metadata": {
        "id": "AorngTXKsU-I"
      },
      "source": [
        "'''with open('data/Homework.txt','r') as f:\n",
        "  x = f.read()\n",
        "print(x)'''"
      ],
      "execution_count": null,
      "outputs": []
    },
    {
      "cell_type": "code",
      "metadata": {
        "id": "AnX6v1XltZG5"
      },
      "source": [
        "'''with open('data/Homework.txt','a') as f:\n",
        "  x = f.write('Hello World')\n",
        "with open('data/Homework.txt','r') as f:\n",
        "  x = f.read()\n",
        "print(x)'''"
      ],
      "execution_count": null,
      "outputs": []
    },
    {
      "cell_type": "code",
      "metadata": {
        "id": "S5Z8oAaZtazW",
        "outputId": "a9dbcca5-535c-4f57-9968-bdd0513f3067",
        "colab": {
          "base_uri": "https://localhost:8080/",
          "height": 69
        }
      },
      "source": [
        "\n",
        "with open('data/Homework.txt','w') as f:\n",
        "  x1 = f.write('Hello World')\n",
        "print(x1)\n",
        "with open('data/Homework.txt','r') as f:\n",
        "  x = f.read()\n",
        "print(x)\n",
        "if x1 == len(x):\n",
        "  print('Yes, Homework.txt 檔案字數符合 Hello World 字數')"
      ],
      "execution_count": 38,
      "outputs": [
        {
          "output_type": "stream",
          "text": [
            "11\n",
            "Hello World\n",
            "Yes, Homework.txt 檔案字數符合 Hello World 字數\n"
          ],
          "name": "stdout"
        }
      ]
    },
    {
      "cell_type": "markdown",
      "metadata": {
        "id": "qikXZv2Sv1JS"
      },
      "source": [
        "# 原始題目"
      ]
    },
    {
      "cell_type": "code",
      "metadata": {
        "id": "xbuC3MF5nls0"
      },
      "source": [
        "# 根據需求引入正確的 Library\n",
        "\n",
        "from urllib.request import urlretrieve\n",
        "import os"
      ],
      "execution_count": null,
      "outputs": []
    },
    {
      "cell_type": "code",
      "metadata": {
        "id": "8t5QImZgnltP"
      },
      "source": [
        "# 下載檔案到 Data 資料夾，存成檔名 Homework.txt\n",
        "\n",
        "try:\n",
        "    os.makedirs( './Data', exist_ok=True )\n",
        "    '''\n",
        "    Your Code\n",
        "    '''\n",
        "except:\n",
        "    print('發生錯誤！')"
      ],
      "execution_count": null,
      "outputs": []
    },
    {
      "cell_type": "code",
      "metadata": {
        "id": "jAZKOlCXnlux",
        "outputId": "c2b004bd-3e20-4d4e-c954-6452b0ee3641"
      },
      "source": [
        "# 檢查 Data 資料夾是否有 Homework.txt 檔名之檔案\n",
        "\n",
        "files = []\n",
        "\n",
        "'''\n",
        "Your Code\n",
        "'''\n",
        "\n",
        "if 'Homework.txt' in files:\n",
        "    print('[O] 檢查 Data 資料夾是否有 Homework.txt 檔名之檔案')\n",
        "else:\n",
        "    print('[X] 檢查 Data 資料夾是否有 Homework.txt 檔名之檔案')"
      ],
      "execution_count": null,
      "outputs": [
        {
          "output_type": "stream",
          "text": [
            "[X] 檢查 Data 資料夾是否有 Homework.txt 檔名之檔案\n"
          ],
          "name": "stdout"
        }
      ]
    },
    {
      "cell_type": "code",
      "metadata": {
        "id": "yD8tE1fEnlu2"
      },
      "source": [
        "# 將「Hello World」字串覆寫到 Homework.txt 檔案\n",
        "\n",
        "f = ''\n",
        "\n",
        "with open(\"./Data/Homework.txt\", \"w\") as fh:\n",
        "    '''\n",
        "    Your Code\n",
        "    '''\n",
        "\n",
        "try:\n",
        "    with open(\"./Data/Homework.txt\", \"r\") as fh:\n",
        "        '''\n",
        "        Your Code\n",
        "        '''\n",
        "except EnvironmentError: # parent of IOError, OSError *and* WindowsError where available\n",
        "    pass    \n",
        "    \n"
      ],
      "execution_count": null,
      "outputs": []
    },
    {
      "cell_type": "code",
      "metadata": {
        "scrolled": true,
        "id": "H73KvzUInlu-",
        "outputId": "1f29e210-fe33-42cb-9b3b-0c1c83aeca07"
      },
      "source": [
        "# 檢查 Homework.txt 檔案字數是否符合 Hello World 字數\n",
        "\n",
        "if len('Hello World') == len(f):\n",
        "    print('[O] 檢查 Homework.txt 檔案字數是否符合 Hello World 字數')\n",
        "else:\n",
        "    print('[X] 檢查 Homework.txt 檔案字數是否符合 Hello World 字數')"
      ],
      "execution_count": null,
      "outputs": [
        {
          "output_type": "stream",
          "text": [
            "[X] 檢查 Homework.txt 檔案字數是否符合 Hello World 字數\n"
          ],
          "name": "stdout"
        }
      ]
    },
    {
      "cell_type": "code",
      "metadata": {
        "id": "mOy3zPe8nlvC"
      },
      "source": [
        ""
      ],
      "execution_count": null,
      "outputs": []
    },
    {
      "cell_type": "code",
      "metadata": {
        "id": "cUaGjTO6nlvI"
      },
      "source": [
        ""
      ],
      "execution_count": null,
      "outputs": []
    },
    {
      "cell_type": "code",
      "metadata": {
        "id": "rzFrkGoFnlvU"
      },
      "source": [
        ""
      ],
      "execution_count": null,
      "outputs": []
    }
  ]
}