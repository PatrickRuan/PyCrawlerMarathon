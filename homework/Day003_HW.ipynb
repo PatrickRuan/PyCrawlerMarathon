{
  "nbformat": 4,
  "nbformat_minor": 0,
  "metadata": {
    "kernelspec": {
      "display_name": "Python 3",
      "language": "python",
      "name": "python3"
    },
    "language_info": {
      "codemirror_mode": {
        "name": "ipython",
        "version": 3
      },
      "file_extension": ".py",
      "mimetype": "text/x-python",
      "name": "python",
      "nbconvert_exporter": "python",
      "pygments_lexer": "ipython3",
      "version": "3.6.5"
    },
    "colab": {
      "name": "Day003_HW.ipynb",
      "provenance": [],
      "collapsed_sections": [],
      "include_colab_link": true
    }
  },
  "cells": [
    {
      "cell_type": "markdown",
      "metadata": {
        "id": "view-in-github",
        "colab_type": "text"
      },
      "source": [
        "<a href=\"https://colab.research.google.com/github/PatrickRuan/PyCrawlerMarathon/blob/master/homework/Day003_HW.ipynb\" target=\"_parent\"><img src=\"https://colab.research.google.com/assets/colab-badge.svg\" alt=\"Open In Colab\"/></a>"
      ]
    },
    {
      "cell_type": "markdown",
      "metadata": {
        "id": "F62P9nmrtHTM"
      },
      "source": [
        "# Python 下載XML檔案與解析\n",
        "\n",
        "\n",
        "* 了解 xml 檔案格式與內容\n",
        "* 能夠利用套件存取 xml 格式的檔案\n"
      ]
    },
    {
      "cell_type": "markdown",
      "metadata": {
        "id": "V6qK5HV8tHTO"
      },
      "source": [
        "## 作業目標\n",
        "\n",
        "* 比較一下範例檔案中的「File I/O」與「xmltodict」讀出來的內容有什麼差異\n",
        "\n",
        "* 根據範例檔案的結果：\n",
        "    1. 請問高雄市有多少地區有溫度資料？\n",
        "    2. 請取出每一個地區所記錄的第一個時間點跟溫度\n",
        "    3. 請取出第一個地區所記錄的每一個時間點跟溫度"
      ]
    },
    {
      "cell_type": "markdown",
      "metadata": {
        "id": "s4-OQpSTtHTm"
      },
      "source": [
        "### 比較一下範例檔案中的「File I/O」與「xmltodict」讀出來的內容有什麼差異\n"
      ]
    },
    {
      "cell_type": "code",
      "metadata": {
        "id": "FHoBlKM-tHTn",
        "outputId": "c255d3a6-2553-49ff-e949-f767e88f2f9a",
        "colab": {
          "base_uri": "https://localhost:8080/"
        }
      },
      "source": [
        "'''\n",
        "file i/o puts strings together\n",
        "xmltodict contains structure information\n",
        "'''"
      ],
      "execution_count": 1,
      "outputs": [
        {
          "output_type": "execute_result",
          "data": {
            "application/vnd.google.colaboratory.intrinsic+json": {
              "type": "string"
            },
            "text/plain": [
              "'\\nfile i/o puts strings together\\nxmltodict contains structure information\\n'"
            ]
          },
          "metadata": {
            "tags": []
          },
          "execution_count": 1
        }
      ]
    },
    {
      "cell_type": "code",
      "metadata": {
        "id": "usT0ZrTqBUQe"
      },
      "source": [
        "# 下載檔案\n",
        "import urllib.request\n",
        "import zipfile\n",
        "import os, sys\n",
        "\n",
        "res = \"http://opendata.cwb.gov.tw/govdownload?dataid=F-D0047-093&authorizationkey=rdec-key-123-45678-011121314\"\n",
        "os.makedirs('./data',exist_ok= True)\n",
        "urllib.request.urlretrieve(res, \"./data/example.zip\")\n",
        "f = zipfile.ZipFile('./data/example.zip')\n",
        "f.extractall('./data')\n"
      ],
      "execution_count": 1,
      "outputs": []
    },
    {
      "cell_type": "code",
      "metadata": {
        "id": "uMpqF3R5Bttp",
        "outputId": "c49f85b1-611a-42e3-bfe4-ba94ac1c00ef",
        "colab": {
          "base_uri": "https://localhost:8080/",
          "height": 54
        }
      },
      "source": [
        "!pip install xmltodict\n",
        "import xmltodict\n",
        "\n",
        "with open('./data/64_72hr_CH.xml', 'r') as f:\n",
        "  files = f.read()\n",
        "# print(files) # 請在 local editor 上打開, 比較好觀察\n",
        "# 存取檔案\n",
        "\n",
        "with open('./data/64_72hr_CH.xml') as fd:\n",
        "    doc = dict(xmltodict.parse(fd.read()))"
      ],
      "execution_count": 6,
      "outputs": [
        {
          "output_type": "stream",
          "text": [
            "Requirement already satisfied: xmltodict in /usr/local/lib/python3.6/dist-packages (0.12.0)\n"
          ],
          "name": "stdout"
        }
      ]
    },
    {
      "cell_type": "markdown",
      "metadata": {
        "id": "MpVYOHy_tHTy"
      },
      "source": [
        "### 根據範例檔案的結果：\n",
        "\n",
        "1. 請問高雄市有多少地區有溫度資料？\n",
        "2. 請取出每一個地區所記錄的第一個時間點跟溫度\n",
        "3. 請取出第一個地區所記錄的每一個時間點跟溫度"
      ]
    },
    {
      "cell_type": "code",
      "metadata": {
        "id": "9UpJmbEvtHT0",
        "outputId": "8522a207-98f7-4de5-b1b1-466af4ecc045",
        "colab": {
          "base_uri": "https://localhost:8080/",
          "height": 34
        }
      },
      "source": [
        "# 1. 請問高雄市有多少地區有溫度資料？  # to find how many items under cwbopendata/dataset/locations/location/ \n",
        "\n",
        "'''\n",
        "Your Code\n",
        "'''\n",
        "locations = doc['cwbopendata']['dataset']['locations']['location']\n",
        "print(len(locations))"
      ],
      "execution_count": 3,
      "outputs": [
        {
          "output_type": "stream",
          "text": [
            "38\n"
          ],
          "name": "stdout"
        }
      ]
    },
    {
      "cell_type": "code",
      "metadata": {
        "id": "pmTAQ5ZotHUY",
        "outputId": "13a13198-1652-43a9-863a-916ca4697ab9",
        "colab": {
          "base_uri": "https://localhost:8080/",
          "height": 1000
        }
      },
      "source": [
        "# 2. 請取出每一個地區所記錄的第一個時間點跟溫度 # to go into location/weatherElement to fetch time and datatime\n",
        "\n",
        "'''\n",
        "Your Code\n",
        "'''\n",
        "for location in locations:\n",
        "    print(location['locationName'])\n",
        "    print(location['weatherElement'][0]['time'][0]['dataTime'] )\n",
        "    print(location['weatherElement'][0]['time'][0]['elementValue'] )"
      ],
      "execution_count": 4,
      "outputs": [
        {
          "output_type": "stream",
          "text": [
            "鹽埕區\n",
            "2020-09-29T12:00:00+08:00\n",
            "OrderedDict([('value', '32'), ('measures', '攝氏度')])\n",
            "鼓山區\n",
            "2020-09-29T12:00:00+08:00\n",
            "OrderedDict([('value', '32'), ('measures', '攝氏度')])\n",
            "左營區\n",
            "2020-09-29T12:00:00+08:00\n",
            "OrderedDict([('value', '31'), ('measures', '攝氏度')])\n",
            "楠梓區\n",
            "2020-09-29T12:00:00+08:00\n",
            "OrderedDict([('value', '32'), ('measures', '攝氏度')])\n",
            "三民區\n",
            "2020-09-29T12:00:00+08:00\n",
            "OrderedDict([('value', '31'), ('measures', '攝氏度')])\n",
            "新興區\n",
            "2020-09-29T12:00:00+08:00\n",
            "OrderedDict([('value', '32'), ('measures', '攝氏度')])\n",
            "前金區\n",
            "2020-09-29T12:00:00+08:00\n",
            "OrderedDict([('value', '32'), ('measures', '攝氏度')])\n",
            "苓雅區\n",
            "2020-09-29T12:00:00+08:00\n",
            "OrderedDict([('value', '32'), ('measures', '攝氏度')])\n",
            "前鎮區\n",
            "2020-09-29T12:00:00+08:00\n",
            "OrderedDict([('value', '32'), ('measures', '攝氏度')])\n",
            "旗津區\n",
            "2020-09-29T12:00:00+08:00\n",
            "OrderedDict([('value', '31'), ('measures', '攝氏度')])\n",
            "小港區\n",
            "2020-09-29T12:00:00+08:00\n",
            "OrderedDict([('value', '32'), ('measures', '攝氏度')])\n",
            "鳳山區\n",
            "2020-09-29T12:00:00+08:00\n",
            "OrderedDict([('value', '32'), ('measures', '攝氏度')])\n",
            "林園區\n",
            "2020-09-29T12:00:00+08:00\n",
            "OrderedDict([('value', '32'), ('measures', '攝氏度')])\n",
            "大寮區\n",
            "2020-09-29T12:00:00+08:00\n",
            "OrderedDict([('value', '32'), ('measures', '攝氏度')])\n",
            "大樹區\n",
            "2020-09-29T12:00:00+08:00\n",
            "OrderedDict([('value', '33'), ('measures', '攝氏度')])\n",
            "大社區\n",
            "2020-09-29T12:00:00+08:00\n",
            "OrderedDict([('value', '32'), ('measures', '攝氏度')])\n",
            "仁武區\n",
            "2020-09-29T12:00:00+08:00\n",
            "OrderedDict([('value', '32'), ('measures', '攝氏度')])\n",
            "鳥松區\n",
            "2020-09-29T12:00:00+08:00\n",
            "OrderedDict([('value', '33'), ('measures', '攝氏度')])\n",
            "岡山區\n",
            "2020-09-29T12:00:00+08:00\n",
            "OrderedDict([('value', '33'), ('measures', '攝氏度')])\n",
            "橋頭區\n",
            "2020-09-29T12:00:00+08:00\n",
            "OrderedDict([('value', '33'), ('measures', '攝氏度')])\n",
            "燕巢區\n",
            "2020-09-29T12:00:00+08:00\n",
            "OrderedDict([('value', '33'), ('measures', '攝氏度')])\n",
            "田寮區\n",
            "2020-09-29T12:00:00+08:00\n",
            "OrderedDict([('value', '33'), ('measures', '攝氏度')])\n",
            "阿蓮區\n",
            "2020-09-29T12:00:00+08:00\n",
            "OrderedDict([('value', '33'), ('measures', '攝氏度')])\n",
            "路竹區\n",
            "2020-09-29T12:00:00+08:00\n",
            "OrderedDict([('value', '33'), ('measures', '攝氏度')])\n",
            "湖內區\n",
            "2020-09-29T12:00:00+08:00\n",
            "OrderedDict([('value', '32'), ('measures', '攝氏度')])\n",
            "茄萣區\n",
            "2020-09-29T12:00:00+08:00\n",
            "OrderedDict([('value', '31'), ('measures', '攝氏度')])\n",
            "永安區\n",
            "2020-09-29T12:00:00+08:00\n",
            "OrderedDict([('value', '31'), ('measures', '攝氏度')])\n",
            "彌陀區\n",
            "2020-09-29T12:00:00+08:00\n",
            "OrderedDict([('value', '31'), ('measures', '攝氏度')])\n",
            "梓官區\n",
            "2020-09-29T12:00:00+08:00\n",
            "OrderedDict([('value', '32'), ('measures', '攝氏度')])\n",
            "旗山區\n",
            "2020-09-29T12:00:00+08:00\n",
            "OrderedDict([('value', '33'), ('measures', '攝氏度')])\n",
            "美濃區\n",
            "2020-09-29T12:00:00+08:00\n",
            "OrderedDict([('value', '34'), ('measures', '攝氏度')])\n",
            "六龜區\n",
            "2020-09-29T12:00:00+08:00\n",
            "OrderedDict([('value', '32'), ('measures', '攝氏度')])\n",
            "甲仙區\n",
            "2020-09-29T12:00:00+08:00\n",
            "OrderedDict([('value', '32'), ('measures', '攝氏度')])\n",
            "杉林區\n",
            "2020-09-29T12:00:00+08:00\n",
            "OrderedDict([('value', '34'), ('measures', '攝氏度')])\n",
            "內門區\n",
            "2020-09-29T12:00:00+08:00\n",
            "OrderedDict([('value', '33'), ('measures', '攝氏度')])\n",
            "茂林區\n",
            "2020-09-29T12:00:00+08:00\n",
            "OrderedDict([('value', '33'), ('measures', '攝氏度')])\n",
            "桃源區\n",
            "2020-09-29T12:00:00+08:00\n",
            "OrderedDict([('value', '30'), ('measures', '攝氏度')])\n",
            "那瑪夏區\n",
            "2020-09-29T12:00:00+08:00\n",
            "OrderedDict([('value', '28'), ('measures', '攝氏度')])\n"
          ],
          "name": "stdout"
        }
      ]
    },
    {
      "cell_type": "code",
      "metadata": {
        "id": "9Xz4eaoUtHUe",
        "outputId": "6d934615-f95b-45db-9c4e-1bddcda3aa74",
        "colab": {
          "base_uri": "https://localhost:8080/",
          "height": 833
        }
      },
      "source": [
        "# 3. 請取出第一個地區所記錄的每一個時間點跟溫度\n",
        "\n",
        "'''\n",
        "Your Code\n",
        "'''\n",
        "location = locations[0]\n",
        "for l in location['weatherElement'][0]['time']:\n",
        "    print(l['dataTime'], 'tt' )\n",
        "    print(l['elementValue'], 'mm' )"
      ],
      "execution_count": 5,
      "outputs": [
        {
          "output_type": "stream",
          "text": [
            "2020-09-29T12:00:00+08:00 tt\n",
            "OrderedDict([('value', '32'), ('measures', '攝氏度')]) mm\n",
            "2020-09-29T15:00:00+08:00 tt\n",
            "OrderedDict([('value', '32'), ('measures', '攝氏度')]) mm\n",
            "2020-09-29T18:00:00+08:00 tt\n",
            "OrderedDict([('value', '30'), ('measures', '攝氏度')]) mm\n",
            "2020-09-29T21:00:00+08:00 tt\n",
            "OrderedDict([('value', '28'), ('measures', '攝氏度')]) mm\n",
            "2020-09-30T00:00:00+08:00 tt\n",
            "OrderedDict([('value', '28'), ('measures', '攝氏度')]) mm\n",
            "2020-09-30T03:00:00+08:00 tt\n",
            "OrderedDict([('value', '27'), ('measures', '攝氏度')]) mm\n",
            "2020-09-30T06:00:00+08:00 tt\n",
            "OrderedDict([('value', '27'), ('measures', '攝氏度')]) mm\n",
            "2020-09-30T09:00:00+08:00 tt\n",
            "OrderedDict([('value', '29'), ('measures', '攝氏度')]) mm\n",
            "2020-09-30T12:00:00+08:00 tt\n",
            "OrderedDict([('value', '31'), ('measures', '攝氏度')]) mm\n",
            "2020-09-30T15:00:00+08:00 tt\n",
            "OrderedDict([('value', '30'), ('measures', '攝氏度')]) mm\n",
            "2020-09-30T18:00:00+08:00 tt\n",
            "OrderedDict([('value', '29'), ('measures', '攝氏度')]) mm\n",
            "2020-09-30T21:00:00+08:00 tt\n",
            "OrderedDict([('value', '28'), ('measures', '攝氏度')]) mm\n",
            "2020-10-01T00:00:00+08:00 tt\n",
            "OrderedDict([('value', '28'), ('measures', '攝氏度')]) mm\n",
            "2020-10-01T03:00:00+08:00 tt\n",
            "OrderedDict([('value', '27'), ('measures', '攝氏度')]) mm\n",
            "2020-10-01T06:00:00+08:00 tt\n",
            "OrderedDict([('value', '27'), ('measures', '攝氏度')]) mm\n",
            "2020-10-01T09:00:00+08:00 tt\n",
            "OrderedDict([('value', '28'), ('measures', '攝氏度')]) mm\n",
            "2020-10-01T12:00:00+08:00 tt\n",
            "OrderedDict([('value', '30'), ('measures', '攝氏度')]) mm\n",
            "2020-10-01T15:00:00+08:00 tt\n",
            "OrderedDict([('value', '30'), ('measures', '攝氏度')]) mm\n",
            "2020-10-01T18:00:00+08:00 tt\n",
            "OrderedDict([('value', '29'), ('measures', '攝氏度')]) mm\n",
            "2020-10-01T21:00:00+08:00 tt\n",
            "OrderedDict([('value', '28'), ('measures', '攝氏度')]) mm\n",
            "2020-10-02T00:00:00+08:00 tt\n",
            "OrderedDict([('value', '27'), ('measures', '攝氏度')]) mm\n",
            "2020-10-02T03:00:00+08:00 tt\n",
            "OrderedDict([('value', '27'), ('measures', '攝氏度')]) mm\n",
            "2020-10-02T06:00:00+08:00 tt\n",
            "OrderedDict([('value', '26'), ('measures', '攝氏度')]) mm\n",
            "2020-10-02T09:00:00+08:00 tt\n",
            "OrderedDict([('value', '28'), ('measures', '攝氏度')]) mm\n"
          ],
          "name": "stdout"
        }
      ]
    },
    {
      "cell_type": "code",
      "metadata": {
        "id": "as56tz3otHUm"
      },
      "source": [
        ""
      ],
      "execution_count": null,
      "outputs": []
    }
  ]
}